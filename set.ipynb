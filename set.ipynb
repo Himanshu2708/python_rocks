{
 "cells": [
  {
   "cell_type": "code",
   "execution_count": 1,
   "id": "a4dc730e",
   "metadata": {},
   "outputs": [],
   "source": [
    "# Creating a set using set() constructor\n",
    "my_set = set()\n",
    "\n",
    "# Creating a set using curly braces\n",
    "my_set = {1, 2, 3}"
   ]
  },
  {
   "cell_type": "code",
   "execution_count": 2,
   "id": "cd8e1df3",
   "metadata": {},
   "outputs": [],
   "source": [
    "# Adding a single item to the set\n",
    "my_set.add(4)\n",
    "\n",
    "# Adding multiple items to the set\n",
    "my_set.update([5, 6, 7])"
   ]
  },
  {
   "cell_type": "code",
   "execution_count": 3,
   "id": "d47d27ca",
   "metadata": {},
   "outputs": [],
   "source": [
    "# Removing an item from the set\n",
    "my_set.remove(3)\n",
    "\n",
    "# Removing an item that doesn't exist\n",
    "my_set.discard(6)"
   ]
  },
  {
   "cell_type": "code",
   "execution_count": 4,
   "id": "2e9e01a0",
   "metadata": {},
   "outputs": [],
   "source": [
    "set1 = {1, 2, 3}\n",
    "set2 = {3, 4, 5}\n",
    "\n",
    "# Combining two sets using union() method\n",
    "set3 = set1.union(set2)"
   ]
  },
  {
   "cell_type": "code",
   "execution_count": 5,
   "id": "9a1fc290",
   "metadata": {},
   "outputs": [],
   "source": [
    "set1 = {1, 2, 3}\n",
    "set2 = {3, 4, 5}\n",
    "\n",
    "# Finding the intersection of two sets using intersection() method\n",
    "set3 = set1.intersection(set2)\n"
   ]
  },
  {
   "cell_type": "code",
   "execution_count": 6,
   "id": "710ba343",
   "metadata": {},
   "outputs": [],
   "source": [
    "set1 = {1, 2, 3}\n",
    "set2 = {3, 4, 5}\n",
    "\n",
    "# Finding the intersection of two sets using the & operator\n",
    "set3 = set1 & set2"
   ]
  },
  {
   "cell_type": "code",
   "execution_count": 7,
   "id": "200e5299",
   "metadata": {},
   "outputs": [],
   "source": [
    "set1 = {1, 2, 3}\n",
    "set2 = {3, 4, 5}\n",
    "\n",
    "# Finding the difference between two sets using difference() method\n",
    "set3 = set1.difference(set2)"
   ]
  },
  {
   "cell_type": "markdown",
   "id": "51b77f30",
   "metadata": {},
   "source": [
    "# Remove duplicate element from list. Don't use type conversion :)"
   ]
  }
 ],
 "metadata": {
  "kernelspec": {
   "display_name": "Python 3 (ipykernel)",
   "language": "python",
   "name": "python3"
  },
  "language_info": {
   "codemirror_mode": {
    "name": "ipython",
    "version": 3
   },
   "file_extension": ".py",
   "mimetype": "text/x-python",
   "name": "python",
   "nbconvert_exporter": "python",
   "pygments_lexer": "ipython3",
   "version": "3.10.9"
  }
 },
 "nbformat": 4,
 "nbformat_minor": 5
}
