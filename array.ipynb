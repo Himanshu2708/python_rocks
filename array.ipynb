{
 "cells": [
  {
   "cell_type": "markdown",
   "id": "9296b50d",
   "metadata": {},
   "source": [
    "# Array"
   ]
  },
  {
   "cell_type": "code",
   "execution_count": null,
   "id": "643074cd",
   "metadata": {},
   "outputs": [],
   "source": [
    "arr=[1,2,3,4,5]\n",
    "\n",
    "print(\"length of array is\",len(arr))"
   ]
  },
  {
   "cell_type": "code",
   "execution_count": null,
   "id": "5775f6a8",
   "metadata": {},
   "outputs": [],
   "source": [
    "arr.append(6)\n",
    "print(arr) #appends element at the last"
   ]
  },
  {
   "cell_type": "code",
   "execution_count": null,
   "id": "abd25c98",
   "metadata": {},
   "outputs": [],
   "source": [
    "arr.pop(1) #removes second element from array\n",
    "print(arr)"
   ]
  },
  {
   "cell_type": "code",
   "execution_count": null,
   "id": "801e4b23",
   "metadata": {},
   "outputs": [],
   "source": [
    "#arr.remove(4) #remove value 5\n",
    "# if 5 is not in arr, then it would give error. Solution\n",
    "\n",
    "if(4 in arr):\n",
    "    arr.remove(4)\n",
    "    print(arr)\n",
    "else:\n",
    "    print(\"value not found\")"
   ]
  },
  {
   "cell_type": "code",
   "execution_count": null,
   "id": "4ee47f4c",
   "metadata": {},
   "outputs": [],
   "source": [
    "arr.clear()\n",
    "print(arr)"
   ]
  },
  {
   "cell_type": "code",
   "execution_count": null,
   "id": "a2c20976",
   "metadata": {},
   "outputs": [],
   "source": [
    "arr=[1,2,3,4,5]\n",
    "arr.count(1) #counts the frequency of 1"
   ]
  },
  {
   "cell_type": "code",
   "execution_count": null,
   "id": "72e41441",
   "metadata": {},
   "outputs": [],
   "source": [
    "arr.extend([6,7,8])#appends element of another list\n",
    "print(arr)"
   ]
  },
  {
   "cell_type": "code",
   "execution_count": null,
   "id": "b3fa1267",
   "metadata": {},
   "outputs": [],
   "source": [
    "#arr.index(5)# index having value 5\n",
    "# if 5 is not in arr, then it would give error. Solution\n",
    "\n",
    "if(5 in arr):\n",
    "    \n",
    "    print(arr.index(5))\n",
    "else:\n",
    "    print(\"value not found\")\n"
   ]
  },
  {
   "cell_type": "code",
   "execution_count": null,
   "id": "5fe4bba2",
   "metadata": {},
   "outputs": [],
   "source": [
    "#reverses the array\n",
    "arr.reverse()#reverses the array\n",
    "print(arr)"
   ]
  },
  {
   "cell_type": "code",
   "execution_count": null,
   "id": "25153898",
   "metadata": {},
   "outputs": [],
   "source": [
    "arr.sort()#sorts in ascending order\n",
    "print(arr)\n"
   ]
  },
  {
   "cell_type": "code",
   "execution_count": null,
   "id": "cf939a82",
   "metadata": {},
   "outputs": [],
   "source": [
    "arr.sort(reverse=True) #sorts in descending order\n",
    "print(arr)"
   ]
  },
  {
   "cell_type": "code",
   "execution_count": null,
   "id": "a31edc95",
   "metadata": {},
   "outputs": [],
   "source": [
    "print(sum(arr))#sum of all elements\n",
    "\n",
    "print(sum(arr[:3])) #sum of first 3 elements"
   ]
  },
  {
   "cell_type": "code",
   "execution_count": null,
   "id": "37db5e05",
   "metadata": {},
   "outputs": [],
   "source": [
    "for i in arr:\n",
    "    print(i)"
   ]
  },
  {
   "cell_type": "code",
   "execution_count": null,
   "id": "1e2ac931",
   "metadata": {},
   "outputs": [],
   "source": [
    "arr.insert(2,0) # adds 2 at index 0\n",
    "\n",
    "\n",
    "print(arr)"
   ]
  },
  {
   "cell_type": "markdown",
   "id": "486dd6af",
   "metadata": {},
   "source": [
    "1. Let us say your expense for every month are listed below,\n",
    "January - 2200\n",
    "February - 2350\n",
    "March - 2600\n",
    "April - 2130\n",
    "May - 2190\n",
    "Create a list to store these monthly expenses and using that find out,\n",
    "\n",
    "a. In Feb, how many dollars you spent extra compare to January?\n",
    "b. Find out your total expense in first quarter (first three months) of the year.\n",
    "c. Find out if you spent exactly 2000 dollars in any month\n",
    "d. June month just finished and your expense is 1980 dollar. Add this item to our monthly expense list\n",
    "e. You returned an item that you bought in a month of April and\n",
    "got a refund of 200$. Make a correction to your monthly expense list\n",
    "based on this\n",
    "\n",
    "\n",
    "2. You have a list of your favourite marvel super heros.\n",
    "heros=['spider man','thor','hulk','iron man','captain america']\n",
    "Using this find out,\n",
    "\n",
    "a. Length of the list\n",
    "b. Add 'black panther' at the end of this list\n",
    "c. You realize that you need to add 'black panther' after 'hulk',\n",
    "   so remove it from the list first and then add it after 'hulk'\n",
    "d. Now you don't like thor and hulk because they get angry easily :)\n",
    "   So you want to remove thor and hulk from list and replace them with doctor strange (because he is cool).\n",
    "e. Sort the heros list in alphabetical order (Hint. Use dir() functions to list down all functions available in list)"
   ]
  }
 ],
 "metadata": {
  "kernelspec": {
   "display_name": "Python 3 (ipykernel)",
   "language": "python",
   "name": "python3"
  },
  "language_info": {
   "codemirror_mode": {
    "name": "ipython",
    "version": 3
   },
   "file_extension": ".py",
   "mimetype": "text/x-python",
   "name": "python",
   "nbconvert_exporter": "python",
   "pygments_lexer": "ipython3",
   "version": "3.10.9"
  }
 },
 "nbformat": 4,
 "nbformat_minor": 5
}
