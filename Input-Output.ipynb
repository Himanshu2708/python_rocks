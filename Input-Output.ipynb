{
 "cells": [
  {
   "cell_type": "markdown",
   "id": "798b3ef6",
   "metadata": {},
   "source": [
    "# Print Statements"
   ]
  },
  {
   "cell_type": "code",
   "execution_count": null,
   "id": "53dadf79",
   "metadata": {},
   "outputs": [],
   "source": [
    "print(\"Hello world!\")"
   ]
  },
  {
   "cell_type": "code",
   "execution_count": null,
   "id": "6ae1cf23",
   "metadata": {},
   "outputs": [],
   "source": [
    "a=5\n",
    "print(\"value of a is\",a)"
   ]
  },
  {
   "cell_type": "markdown",
   "id": "eee7c6e0",
   "metadata": {},
   "source": [
    "# Input from user"
   ]
  },
  {
   "cell_type": "code",
   "execution_count": null,
   "id": "3d4b6781",
   "metadata": {},
   "outputs": [],
   "source": [
    "name=input(\"Enter name: \")\n",
    "print(name)\n",
    "\n",
    "\n",
    "# Note: By default, input type is string. It needs to be typecasted if we want any other data type.\n",
    "\n",
    "age=input(\"Enter your age: \")\n",
    "\n",
    "print(\"You entered age \",age,\"and it's data type is\",type(age));\n",
    "\n",
    "age=int(age)\n",
    "\n",
    "print(\"after converting data type changes to\",type(age));\n",
    "\n"
   ]
  },
  {
   "cell_type": "code",
   "execution_count": null,
   "id": "68a96b80",
   "metadata": {},
   "outputs": [],
   "source": []
  }
 ],
 "metadata": {
  "kernelspec": {
   "display_name": "Python 3 (ipykernel)",
   "language": "python",
   "name": "python3"
  },
  "language_info": {
   "codemirror_mode": {
    "name": "ipython",
    "version": 3
   },
   "file_extension": ".py",
   "mimetype": "text/x-python",
   "name": "python",
   "nbconvert_exporter": "python",
   "pygments_lexer": "ipython3",
   "version": "3.10.9"
  }
 },
 "nbformat": 4,
 "nbformat_minor": 5
}
