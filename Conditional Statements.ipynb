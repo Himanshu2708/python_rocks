{
 "cells": [
  {
   "cell_type": "code",
   "execution_count": 2,
   "id": "dfb8e64c",
   "metadata": {},
   "outputs": [
    {
     "name": "stdout",
     "output_type": "stream",
     "text": [
      "Enter your age:23\n",
      "You can drive\n"
     ]
    }
   ],
   "source": [
    "#if-else\n",
    "age=int(input(\"Enter your age:\"))\n",
    "\n",
    "if(age>=18):\n",
    "    print(\"You can drive\")\n",
    "else:\n",
    "    print(\"You cannot drive\")\n"
   ]
  },
  {
   "cell_type": "code",
   "execution_count": 9,
   "id": "e3131dae",
   "metadata": {},
   "outputs": [
    {
     "name": "stdout",
     "output_type": "stream",
     "text": [
      "You can drive\n"
     ]
    }
   ],
   "source": [
    "# Another way of writing\n",
    "\n",
    "print(\"You\",\"can\" if age>18 else \"cannot\",\"drive\")"
   ]
  },
  {
   "cell_type": "code",
   "execution_count": 18,
   "id": "9fb3a123",
   "metadata": {},
   "outputs": [
    {
     "name": "stdout",
     "output_type": "stream",
     "text": [
      "Enter your favourite dish paneer\n",
      "You selected paneer \n"
     ]
    }
   ],
   "source": [
    "dish=input(\"Enter your favourite dish \")\n",
    "\n",
    "match dish:\n",
    "    case \"rajma\":\n",
    "        print(\"you selected rajma \")\n",
    "    \n",
    "    case \"paneer\":\n",
    "        print(\"You selected paneer \")\n",
    "    \n",
    "    case _:\n",
    "        print(\"Nice choice but i don't like it\")"
   ]
  },
  {
   "cell_type": "code",
   "execution_count": null,
   "id": "15bda0c7",
   "metadata": {},
   "outputs": [],
   "source": []
  },
  {
   "cell_type": "code",
   "execution_count": null,
   "id": "38c1aedf",
   "metadata": {},
   "outputs": [],
   "source": []
  }
 ],
 "metadata": {
  "kernelspec": {
   "display_name": "Python 3 (ipykernel)",
   "language": "python",
   "name": "python3"
  },
  "language_info": {
   "codemirror_mode": {
    "name": "ipython",
    "version": 3
   },
   "file_extension": ".py",
   "mimetype": "text/x-python",
   "name": "python",
   "nbconvert_exporter": "python",
   "pygments_lexer": "ipython3",
   "version": "3.11.2"
  }
 },
 "nbformat": 4,
 "nbformat_minor": 5
}
