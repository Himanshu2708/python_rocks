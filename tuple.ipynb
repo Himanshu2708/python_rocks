{
 "cells": [
  {
   "cell_type": "code",
   "execution_count": null,
   "id": "f3e909f9",
   "metadata": {},
   "outputs": [],
   "source": [
    "# Creating a tuple\n",
    "t = (1, 2, 3, 4, 5)\n"
   ]
  },
  {
   "cell_type": "code",
   "execution_count": null,
   "id": "9ebcbc00",
   "metadata": {},
   "outputs": [],
   "source": [
    "\n",
    "# Accessing elements of a tuple\n",
    "print(t[0])  # Output: 1\n",
    "print(t[-1])  # Output: 5\n",
    "\n"
   ]
  },
  {
   "cell_type": "code",
   "execution_count": null,
   "id": "6610b4b9",
   "metadata": {},
   "outputs": [],
   "source": [
    "# Slicing a tuple\n",
    "print(t[1:4])  # Output: (2, 3, 4)\n",
    "\n"
   ]
  },
  {
   "cell_type": "code",
   "execution_count": null,
   "id": "3cfcbd6c",
   "metadata": {},
   "outputs": [],
   "source": [
    "# Unpacking a tuple\n",
    "a, b, c, d, e = t\n",
    "print(a)  # Output: 1\n",
    "print(b)  # Output: 2\n",
    "print(c)  # Output: 3\n",
    "print(d)  # Output: 4\n",
    "print(e)  # Output: 5\n",
    "\n"
   ]
  },
  {
   "cell_type": "code",
   "execution_count": null,
   "id": "92beee27",
   "metadata": {},
   "outputs": [],
   "source": [
    "# Concatenating tuples\n",
    "t1 = (1, 2, 3)\n",
    "t2 = (4, 5, 6)\n",
    "t3 = t1 + t2\n",
    "print(t3)  # Output: (1, 2, 3, 4, 5, 6)\n",
    "\n"
   ]
  },
  {
   "cell_type": "code",
   "execution_count": null,
   "id": "1a04094f",
   "metadata": {},
   "outputs": [],
   "source": [
    "# Replicating tuples\n",
    "t4 = t1 * 3\n",
    "print(t4)  # Output: (1, 2, 3, 1, 2, 3, 1, 2, 3)\n",
    "\n"
   ]
  },
  {
   "cell_type": "code",
   "execution_count": null,
   "id": "297bea65",
   "metadata": {},
   "outputs": [],
   "source": [
    "# Finding length of a tuple\n",
    "print(len(t))  # Output: 5\n",
    "\n",
    "# Checking if an element exists in a tuple\n",
    "print(2 in t)  # Output: True\n",
    "\n",
    "# Counting occurrence of an element in a tuple\n",
    "print(t.count(2))  # Output: 1\n",
    "\n",
    "# Finding index of an element in a tuple\n",
    "print(t.index(3))  # Output: 2\n",
    "\n",
    "# Converting a tuple to a list\n",
    "lst = list(t)\n",
    "print(lst)  # Output: [1, 2, 3, 4, 5]\n",
    "\n",
    "# Converting a list to a tuple\n",
    "t5 = tuple(lst)\n",
    "print(t5)  # Output: (1, 2, 3, 4, 5)"
   ]
  },
  {
   "cell_type": "code",
   "execution_count": null,
   "id": "4e7de75e",
   "metadata": {},
   "outputs": [],
   "source": [
    "\n",
    "\n",
    "# Checking if an element exists in a tuple\n",
    "print(2 in t)  # Output: True\n",
    "\n"
   ]
  },
  {
   "cell_type": "code",
   "execution_count": null,
   "id": "da1fc86a",
   "metadata": {},
   "outputs": [],
   "source": [
    "# Counting occurrence of an element in a tuple\n",
    "print(t.count(2))  # Output: 1\n",
    "\n"
   ]
  },
  {
   "cell_type": "code",
   "execution_count": null,
   "id": "67a8e764",
   "metadata": {},
   "outputs": [],
   "source": [
    "# Finding index of an element in a tuple\n",
    "print(t.index(3))  # Output: 2\n",
    "\n"
   ]
  },
  {
   "cell_type": "code",
   "execution_count": null,
   "id": "91ecc784",
   "metadata": {},
   "outputs": [],
   "source": [
    "# Converting a tuple to a list\n",
    "lst = list(t)\n",
    "print(lst)  # Output: [1, 2, 3, 4, 5]\n"
   ]
  },
  {
   "cell_type": "code",
   "execution_count": null,
   "id": "7b1ac803",
   "metadata": {},
   "outputs": [],
   "source": [
    "\n",
    "# Converting a list to a tuple\n",
    "t5 = tuple(lst)\n",
    "print(t5)  # Output: (1, 2, 3, 4, 5)"
   ]
  },
  {
   "cell_type": "markdown",
   "id": "422bc40f",
   "metadata": {},
   "source": [
    "# Exercise: Maximum and minimum element in tuple\n",
    "\n",
    "Hint: min and max functions"
   ]
  }
 ],
 "metadata": {
  "kernelspec": {
   "display_name": "Python 3 (ipykernel)",
   "language": "python",
   "name": "python3"
  },
  "language_info": {
   "codemirror_mode": {
    "name": "ipython",
    "version": 3
   },
   "file_extension": ".py",
   "mimetype": "text/x-python",
   "name": "python",
   "nbconvert_exporter": "python",
   "pygments_lexer": "ipython3",
   "version": "3.10.9"
  }
 },
 "nbformat": 4,
 "nbformat_minor": 5
}
