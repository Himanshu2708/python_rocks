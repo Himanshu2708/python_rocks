{
 "cells": [
  {
   "cell_type": "code",
   "execution_count": null,
   "id": "a53d6b78",
   "metadata": {},
   "outputs": [],
   "source": [
    "def divide(x, y):\n",
    "    try:\n",
    "        result = x / y\n",
    "        print(\"The result is:\", result)\n",
    "    except ZeroDivisionError:\n",
    "        print(\"Error: division by zero!\")\n",
    "    except TypeError:\n",
    "        print(\"Error: unsupported operand type(s) for /\")\n",
    "    finally:\n",
    "        print(\"Done.\")\n",
    "\n",
    "divide(10, 5)\n",
    "divide(10, 0)\n",
    "divide(10, \"a\")"
   ]
  }
 ],
 "metadata": {
  "kernelspec": {
   "display_name": "Python 3 (ipykernel)",
   "language": "python",
   "name": "python3"
  },
  "language_info": {
   "codemirror_mode": {
    "name": "ipython",
    "version": 3
   },
   "file_extension": ".py",
   "mimetype": "text/x-python",
   "name": "python",
   "nbconvert_exporter": "python",
   "pygments_lexer": "ipython3",
   "version": "3.10.9"
  }
 },
 "nbformat": 4,
 "nbformat_minor": 5
}
