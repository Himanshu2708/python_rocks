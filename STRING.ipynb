{
 "cells": [
  {
   "cell_type": "code",
   "execution_count": null,
   "id": "29181e5d",
   "metadata": {},
   "outputs": [],
   "source": [
    "# Define a string variable\n",
    "s = \"Hello, World!\"\n",
    "\n",
    "# Print the original string\n",
    "print(\"Original string:\", s)\n",
    "\n",
    "# Get the length of the string\n",
    "print(\"Length of string:\", len(s))\n",
    "\n",
    "# Convert the string to all uppercase\n",
    "print(\"Uppercase string:\", s.upper())\n",
    "\n",
    "# Convert the string to all lowercase\n",
    "print(\"Lowercase string:\", s.lower())\n",
    "\n",
    "# Check if the string starts with a certain substring\n",
    "if s.startswith(\"Hello\"):\n",
    "    print(\"String starts with 'Hello'\")\n",
    "\n",
    "# Check if the string ends with a certain substring\n",
    "if s.endswith(\"World!\"):\n",
    "    print(\"String ends with 'World!'\")\n",
    "\n",
    "# Find the index of the first occurrence of a substring\n",
    "print(\"Index of 'o':\", s.find(\"o\"))\n",
    "\n",
    "# Replace a substring with another substring\n",
    "new_s = s.replace(\"World\", \"Python\")\n",
    "print(\"New string:\", new_s)\n",
    "\n",
    "# Split the string into a list of substrings\n",
    "split_s = s.split(\",\")\n",
    "print(\"Split string:\", split_s)\n",
    "\n",
    "# Join a list of substrings into a string\n",
    "join_s = \"-\".join(split_s)\n",
    "print(\"Joined string:\", join_s)\n",
    "\n",
    "reversed_s=join_s[::-1]\n",
    "print(\"reversed string:\",reversed_s)"
   ]
  },
  {
   "cell_type": "markdown",
   "id": "a3bd0d82",
   "metadata": {},
   "source": [
    "# EXERCISE: CHECK IF A STRING IS PALINDROME"
   ]
  },
  {
   "cell_type": "code",
   "execution_count": null,
   "id": "c5813820",
   "metadata": {},
   "outputs": [],
   "source": []
  }
 ],
 "metadata": {
  "kernelspec": {
   "display_name": "Python 3 (ipykernel)",
   "language": "python",
   "name": "python3"
  },
  "language_info": {
   "codemirror_mode": {
    "name": "ipython",
    "version": 3
   },
   "file_extension": ".py",
   "mimetype": "text/x-python",
   "name": "python",
   "nbconvert_exporter": "python",
   "pygments_lexer": "ipython3",
   "version": "3.10.9"
  }
 },
 "nbformat": 4,
 "nbformat_minor": 5
}
