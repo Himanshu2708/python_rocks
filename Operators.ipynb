{
 "cells": [
  {
   "cell_type": "markdown",
   "id": "c0ef0fb8",
   "metadata": {},
   "source": [
    "# Operators in python:"
   ]
  },
  {
   "cell_type": "code",
   "execution_count": 2,
   "id": "44c9e5aa",
   "metadata": {},
   "outputs": [
    {
     "name": "stdout",
     "output_type": "stream",
     "text": [
      "a+b= 8\n",
      "a-b= 2\n",
      "a+b= 15\n",
      "a+b= 1.6666666666666667\n",
      "a+b= 1\n",
      "a+b= 125\n",
      "a+b= 2\n"
     ]
    }
   ],
   "source": [
    "# Arithmetic Operators:\n",
    "\n",
    "a=5\n",
    "b=3\n",
    "\n",
    "print(\"a+b=\",a+b)\n",
    "print(\"a-b=\",a-b)\n",
    "print(\"a*b=\",a*b)\n",
    "print(\"a/b=\",a/b)\n",
    "print(\"a//b=\",a//b)\n",
    "print(\"a**b=\",a**b)\n",
    "print(\"a%b=\",a%b)\n"
   ]
  },
  {
   "cell_type": "code",
   "execution_count": 3,
   "id": "014dbbb1",
   "metadata": {},
   "outputs": [
    {
     "name": "stdout",
     "output_type": "stream",
     "text": [
      "12\n",
      "7\n"
     ]
    }
   ],
   "source": [
    "#Assignment Operator\n",
    "\n",
    "x=5\n",
    "x+=7\n",
    "\n",
    "print(x)\n",
    "\n",
    "x-=5\n",
    "\n",
    "\n",
    "print(x)"
   ]
  },
  {
   "cell_type": "code",
   "execution_count": 4,
   "id": "e5ecefce",
   "metadata": {},
   "outputs": [],
   "source": [
    "# Comparison Operators\n",
    "# Logical Operators\n",
    "# Membership Operators\n",
    "# Bitwise\n",
    "\n"
   ]
  },
  {
   "cell_type": "markdown",
   "id": "65c48d2f",
   "metadata": {},
   "source": [
    "# Exercise\n",
    "\n",
    "Write Python code that performs the following tasks:\n",
    "a. Declare and initialize two integer variables called a and b with values of your choice.\n",
    "b. Declare and initialize two floating-point variables called x and y with values of your choice.\n",
    "c. Declare and initialize two string variables called s1 and s2 with values of your choice.\n",
    "d. Use arithmetic operators to perform the following tasks:\n",
    "i. Add a and b, and store the result in a variable called sum.\n",
    "ii. Subtract b from a, and store the result in a variable called difference.\n",
    "iii. Multiply a and b, and store the result in a variable called product.\n",
    "iv. Divide a by b, and store the result in a variable called quotient.\n",
    "v. Calculate the remainder when a is divided by b, and store the result in a variable called remainder.\n",
    "e. Use comparison operators to perform the following tasks:\n",
    "i. Check if a is greater than b, and store the result in a variable called is_greater.\n",
    "ii. Check if x is less than or equal to y, and store the result in a variable called is_less_or_equal.\n",
    "iii. Check if s1 is equal to s2, and store the result in a variable called is_equal.\n",
    "f. Use logical operators to perform the following tasks:\n",
    "i. Check if a is greater than b and x is greater than y, and store the result in a variable called is_both_greater.\n",
    "ii. Check if a is less than b or x is less than y, and store the result in a variable called is_either_less.\n",
    "iii. Check if not is_equal is True, and store the result in a variable called is_not_equal.\n",
    "g. Print the values of all the variables you created above.\n",
    "\n",
    "Save and run the code in a Python environment, and make sure it produces the expected output.\n",
    "\n"
   ]
  }
 ],
 "metadata": {
  "kernelspec": {
   "display_name": "Python 3 (ipykernel)",
   "language": "python",
   "name": "python3"
  },
  "language_info": {
   "codemirror_mode": {
    "name": "ipython",
    "version": 3
   },
   "file_extension": ".py",
   "mimetype": "text/x-python",
   "name": "python",
   "nbconvert_exporter": "python",
   "pygments_lexer": "ipython3",
   "version": "3.10.9"
  }
 },
 "nbformat": 4,
 "nbformat_minor": 5
}
