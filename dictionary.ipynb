{
 "cells": [
  {
   "cell_type": "code",
   "execution_count": null,
   "id": "9b962dec",
   "metadata": {},
   "outputs": [],
   "source": [
    "# create a dictionary\n",
    "person = {'name': 'Alice', 'age': 30, 'city': 'New York'}\n",
    "\n"
   ]
  },
  {
   "cell_type": "code",
   "execution_count": null,
   "id": "bf9f77ba",
   "metadata": {},
   "outputs": [],
   "source": [
    "# print the original dictionary\n",
    "print(\"Original dictionary:\", person)\n",
    "\n"
   ]
  },
  {
   "cell_type": "code",
   "execution_count": null,
   "id": "7d890772",
   "metadata": {},
   "outputs": [],
   "source": [
    "# modify the 'age' key\n",
    "person['age'] = 31\n",
    "\n"
   ]
  },
  {
   "cell_type": "code",
   "execution_count": null,
   "id": "2a0a10b2",
   "metadata": {},
   "outputs": [],
   "source": [
    "# add a new key-value pair\n",
    "person['gender'] = 'Female'\n",
    "\n"
   ]
  },
  {
   "cell_type": "code",
   "execution_count": null,
   "id": "85d1dc01",
   "metadata": {},
   "outputs": [],
   "source": [
    "# remove the 'city' key\n",
    "del person['city']\n",
    "\n"
   ]
  },
  {
   "cell_type": "code",
   "execution_count": null,
   "id": "efef85e9",
   "metadata": {},
   "outputs": [],
   "source": [
    "# print the modified dictionary\n",
    "print(\"Modified dictionary:\", person)"
   ]
  },
  {
   "cell_type": "markdown",
   "id": "df669024",
   "metadata": {},
   "source": [
    "# EXERCISE\n",
    "You are given a dictionary students where the keys are the names of the students and the values are their corresponding marks in a subject. Write a Python function to modify the dictionary as follows:\n",
    "\n",
    "If a student's mark is less than 40, add 'Fail' as their value\n",
    "If a student's mark is greater than or equal to 40 and less than 60, add 'Pass' as their value\n",
    "If a student's mark is greater than or equal to 60 and less than 75, add 'Credit' as their value\n",
    "If a student's mark is greater than or equal to 75 and less than 90, add 'Distinction' as their value\n",
    "If a student's mark is greater than or equal to 90, add 'High Distinction' as their value\n",
    "\n"
   ]
  },
  {
   "cell_type": "code",
   "execution_count": null,
   "id": "18fde38e",
   "metadata": {},
   "outputs": [],
   "source": []
  }
 ],
 "metadata": {
  "kernelspec": {
   "display_name": "Python 3 (ipykernel)",
   "language": "python",
   "name": "python3"
  },
  "language_info": {
   "codemirror_mode": {
    "name": "ipython",
    "version": 3
   },
   "file_extension": ".py",
   "mimetype": "text/x-python",
   "name": "python",
   "nbconvert_exporter": "python",
   "pygments_lexer": "ipython3",
   "version": "3.10.9"
  }
 },
 "nbformat": 4,
 "nbformat_minor": 5
}
