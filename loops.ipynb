{
 "cells": [
  {
   "cell_type": "code",
   "execution_count": null,
   "id": "792a7179",
   "metadata": {},
   "outputs": [],
   "source": [
    "# While Loop Example\n",
    "i = 1\n",
    "while i <= 5:\n",
    "    print(i)\n",
    "    i += 1\n",
    "\n",
    "\n",
    "\n"
   ]
  },
  {
   "cell_type": "code",
   "execution_count": null,
   "id": "30d9e095",
   "metadata": {},
   "outputs": [],
   "source": [
    "# For Loop Example\n",
    "numbers = [1, 2, 3, 4, 5]\n",
    "for number in numbers:\n",
    "    print(number)\n",
    "\n",
    "\n"
   ]
  },
  {
   "cell_type": "code",
   "execution_count": null,
   "id": "fb468c21",
   "metadata": {},
   "outputs": [],
   "source": [
    "#Another way\n",
    "for i in range(1, 6):\n",
    "    print(i)\n",
    "\n",
    "\n"
   ]
  },
  {
   "cell_type": "code",
   "execution_count": null,
   "id": "ef947a95",
   "metadata": {},
   "outputs": [],
   "source": [
    "\n",
    "# Nested Loop Example\n",
    "for i in range(1, 3):\n",
    "    for j in range(1, 3):\n",
    "        print(i, j)\n"
   ]
  },
  {
   "cell_type": "markdown",
   "id": "fd5d3f5c",
   "metadata": {},
   "source": [
    "# program to find sum of all digits in a numbere"
   ]
  }
 ],
 "metadata": {
  "kernelspec": {
   "display_name": "Python 3 (ipykernel)",
   "language": "python",
   "name": "python3"
  },
  "language_info": {
   "codemirror_mode": {
    "name": "ipython",
    "version": 3
   },
   "file_extension": ".py",
   "mimetype": "text/x-python",
   "name": "python",
   "nbconvert_exporter": "python",
   "pygments_lexer": "ipython3",
   "version": "3.10.9"
  }
 },
 "nbformat": 4,
 "nbformat_minor": 5
}
